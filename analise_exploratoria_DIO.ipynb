{
  "nbformat": 4,
  "nbformat_minor": 0,
  "metadata": {
    "colab": {
      "provenance": [],
      "authorship_tag": "ABX9TyOvqNck5Ahk4OJTQTvUw6M/",
      "include_colab_link": true
    },
    "kernelspec": {
      "name": "python3",
      "display_name": "Python 3"
    },
    "language_info": {
      "name": "python"
    }
  },
  "cells": [
    {
      "cell_type": "markdown",
      "metadata": {
        "id": "view-in-github",
        "colab_type": "text"
      },
      "source": [
        "<a href=\"https://colab.research.google.com/github/Felipe-Serradas/desafios-DIO/blob/main/analise_exploratoria_DIO.ipynb\" target=\"_parent\"><img src=\"https://colab.research.google.com/assets/colab-badge.svg\" alt=\"Open In Colab\"/></a>"
      ]
    },
    {
      "cell_type": "code",
      "execution_count": 1,
      "metadata": {
        "id": "jejPHxgjPs3A"
      },
      "outputs": [],
      "source": [
        "#Importando as bibliotecas\n",
        "import pandas as pd\n",
        "import matplotlib.pyplot as plt\n",
        "plt.style.use(\"seaborn\")"
      ]
    },
    {
      "cell_type": "code",
      "source": [
        "#Criação do Dataframe\n",
        "url = 'https://raw.githubusercontent.com/nytimes/covid-19-data/master/us-counties-2020.csv'\n",
        "df = pd.read_csv(url)"
      ],
      "metadata": {
        "id": "G94M53AnUjxc"
      },
      "execution_count": 2,
      "outputs": []
    },
    {
      "cell_type": "code",
      "source": [
        "#Visualizando as 10 primeiras linhas\n",
        "df.head(10)"
      ],
      "metadata": {
        "id": "sTpbF9PxU0Xe"
      },
      "execution_count": null,
      "outputs": []
    },
    {
      "cell_type": "code",
      "source": [
        "#Visualizando as 6 últimas linhas\n",
        "df.tail(6)"
      ],
      "metadata": {
        "id": "H5majcLGVxep"
      },
      "execution_count": null,
      "outputs": []
    },
    {
      "cell_type": "code",
      "source": [
        "#Quantidade linhas e colunas\n",
        "df.shape"
      ],
      "metadata": {
        "id": "dC74Y4ijWFsw"
      },
      "execution_count": null,
      "outputs": []
    },
    {
      "cell_type": "code",
      "source": [
        "#Metadados\n",
        "df.dtypes"
      ],
      "metadata": {
        "id": "EnUqcgpCWMTb"
      },
      "execution_count": null,
      "outputs": []
    },
    {
      "cell_type": "code",
      "source": [
        "#Total dos casos\n",
        "df[\"cases\"].sum()"
      ],
      "metadata": {
        "id": "7hTqtflHWq1w"
      },
      "execution_count": null,
      "outputs": []
    },
    {
      "cell_type": "code",
      "source": [
        "#Porcentagem de infectados diariamente\n",
        "df[\"%\"] = df[\"cases\"].div(df[\"cases\"].sum()) #Criando coluna %"
      ],
      "metadata": {
        "id": "Yb1AVc34XN_f"
      },
      "execution_count": 21,
      "outputs": []
    },
    {
      "cell_type": "code",
      "source": [
        "#Média de infectados por estado\n",
        "df.groupby(\"state\")[\"cases\"].mean()"
      ],
      "metadata": {
        "id": "VOgSuc_LYrlE"
      },
      "execution_count": null,
      "outputs": []
    },
    {
      "cell_type": "code",
      "source": [
        "#Verificando se há dados faltantes\n",
        "df.isnull().sum()"
      ],
      "metadata": {
        "id": "QIDWXtPAZP3b"
      },
      "execution_count": null,
      "outputs": []
    },
    {
      "cell_type": "code",
      "source": [
        "#Visualização do gráfico\n",
        "df.plot()"
      ],
      "metadata": {
        "colab": {
          "base_uri": "https://localhost:8080/",
          "height": 365
        },
        "id": "kFPflDtLZwtq",
        "outputId": "ab8aafd9-d19c-44b0-e896-191dd1d75765"
      },
      "execution_count": 33,
      "outputs": [
        {
          "output_type": "execute_result",
          "data": {
            "text/plain": [
              "<matplotlib.axes._subplots.AxesSubplot at 0x7f339760f1d0>"
            ]
          },
          "metadata": {},
          "execution_count": 33
        },
        {
          "output_type": "display_data",
          "data": {
            "text/plain": [
              "<Figure size 576x396 with 1 Axes>"
            ],
            "image/png": "[encoded data removed]"
          },
          "metadata": {}
        }
      ]
    }
  ]
}